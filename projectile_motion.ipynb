{
 "cells": [
  {
   "cell_type": "code",
   "execution_count": null,
   "metadata": {},
   "outputs": [],
   "source": [
    "import numpy as np \n",
    "import matplotlib.pyplot as plt "
   ]
  },
  {
   "cell_type": "code",
   "execution_count": 14,
   "metadata": {},
   "outputs": [],
   "source": [
    "def projectile_motion(v0, theta):\n",
    "    '''Describes projectile motion equations given inital velocity and angle of launch'''\n",
    "    \n",
    "    g = 9.81\n",
    "    rad = np.radians(theta)\n",
    "    \n",
    "    T = (2 * v0 * np.sin(rad)) / g\n",
    "    t = np.linspace(0, T, num=100)\n",
    "    \n",
    "    x = v0 * np.cos(rad) * t \n",
    "    y = v0 * np.sin(rad) * t - (1/2) * g * (t**2)\n",
    "    \n",
    "    R = v0 * np.cos(rad) * T\n",
    "    \n",
    "    return x, y, R"
   ]
  },
  {
   "cell_type": "code",
   "execution_count": 12,
   "metadata": {},
   "outputs": [],
   "source": [
    "def collect_data():\n",
    "    '''Recieves inital data from user'''\n",
    "    v0 = float(input('Please enter initial velocity: '))\n",
    "    angle = float(input('Please enter angle of launch: '))\n",
    "    x_values, y_values, range_value = projectile_motion(v0, angle)\n",
    "    \n",
    "    return x_values, y_values, range_value"
   ]
  },
  {
   "cell_type": "code",
   "execution_count": 21,
   "metadata": {},
   "outputs": [],
   "source": [
    "def plot_data(x_values, y_values, range_value):\n",
    "    '''Plots data for projectile motion'''\n",
    "    plt.figure(figsize=(6, 6))\n",
    "    plt.plot(x_values, y_values, label='Trajectory')\n",
    "    plt.xlabel('Horizontal Distance (m)')\n",
    "    plt.ylabel('Vertical Distance (m)')\n",
    "    plt.title('Projectile Motion')\n",
    "    plt.legend()\n",
    "    plt.annotate(f\"Range: {range_value:.2f} meters\", xy=(range_value, 0), xytext=(range_value + 10, 5),\n",
    "             arrowprops=dict(facecolor='black', arrowstyle=\"->\"), fontsize=12)\n",
    "    plt.grid(True)\n",
    "    plt.xlim(0, range_value + 15)\n",
    "   "
   ]
  },
  {
   "cell_type": "code",
   "execution_count": 22,
   "metadata": {},
   "outputs": [
    {
     "name": "stdout",
     "output_type": "stream",
     "text": [
      "Using matplotlib backend: TkAgg\n"
     ]
    }
   ],
   "source": [
    "%matplotlib \n",
    "x_values, y_values, range_value = collect_data()\n",
    "plot_data(x_values, y_values, range_value)\n"
   ]
  }
 ],
 "metadata": {
  "kernelspec": {
   "display_name": "Python 3",
   "language": "python",
   "name": "python3"
  },
  "language_info": {
   "codemirror_mode": {
    "name": "ipython",
    "version": 3
   },
   "file_extension": ".py",
   "mimetype": "text/x-python",
   "name": "python",
   "nbconvert_exporter": "python",
   "pygments_lexer": "ipython3",
   "version": "3.11.4"
  },
  "orig_nbformat": 4
 },
 "nbformat": 4,
 "nbformat_minor": 2
}
